{
 "cells": [
  {
   "cell_type": "markdown",
   "id": "efc54321-92c1-4c1e-a9c8-d610d2a234ca",
   "metadata": {},
   "source": [
    "# Data Science Tools and Ecosystem"
   ]
  },
  {
   "cell_type": "markdown",
   "id": "ee667cd2-0ce2-4c55-8c89-5c1e5bf24491",
   "metadata": {},
   "source": [
    "In this notebook, Data Science Tools and Ecosystem are summarized."
   ]
  },
  {
   "cell_type": "markdown",
   "id": "026dc865-ff40-42e5-92fc-1f996b236111",
   "metadata": {},
   "source": [
    "**Objectives:**\n",
    "\n",
    "- List popular languages for Data Science  \n",
    "- Identify commonly used libraries in Data Science  \n",
    "- Create and run Markdown cells in Jupyter Notebooks  \n",
    "- Perform basic arithmetic operations in Python  \n",
    "- Convert time units using Python expressions  "
   ]
  },
  {
   "cell_type": "markdown",
   "id": "a89082a6-23a0-4f17-ab41-4a9a04f9ea52",
   "metadata": {},
   "source": [
    "Some of the popular languages that Data Scientists use are: \n",
    "1. Python\n",
    "2. R\n",
    "3. Julia"
   ]
  },
  {
   "cell_type": "markdown",
   "id": "d3ca4abd-aeb2-4eae-8040-ec349b63e8c2",
   "metadata": {},
   "source": [
    "Some of the commonly used libraries used by Data Scientists include:\n",
    "1. Sckirt-learn\n",
    "2. Pandas\n",
    "3. Matplobit\n",
    "4. Tensor Flow\n",
    "5. Numpy"
   ]
  },
  {
   "cell_type": "markdown",
   "id": "0f5140c8-fc22-4257-9f41-4d5bb32ecfc2",
   "metadata": {},
   "source": [
    "| Data Science Tools |\n",
    "|--------------------|\n",
    "| Jupyter Notebook  |\n",
    "| RStudio           |\n",
    "| Apache Spark      |\n",
    "| VS Code           |\n",
    "\n"
   ]
  },
  {
   "cell_type": "markdown",
   "id": "53b45ff9-bf82-417e-9cf3-7902d70a6aad",
   "metadata": {},
   "source": [
    "### Below are a few examples of evaluating arithmetic expressions in Python\n",
    "```python\n",
    "# Suma\n",
    "3 + 5\n",
    "# Resta\n",
    "10 - 4\n",
    "# Multiplicación\n",
    "6 * 7\n",
    "# División\n",
    "20 / 5\n",
    "# Potencia\n",
    "2 ** 3"
   ]
  },
  {
   "cell_type": "code",
   "execution_count": 9,
   "id": "9ff76972-1992-42e6-9c49-cf11e63c040c",
   "metadata": {},
   "outputs": [
    {
     "name": "stdout",
     "output_type": "stream",
     "text": [
      "17\n"
     ]
    }
   ],
   "source": [
    "# esta es una expresión aritmética simple para luego agregar números enteros\n",
    "print((3*4) + 5)"
   ]
  },
  {
   "cell_type": "code",
   "execution_count": 10,
   "id": "aaabbde4-fc84-4b9a-9928-af8a5ac82156",
   "metadata": {},
   "outputs": [
    {
     "name": "stdout",
     "output_type": "stream",
     "text": [
      "3.3333333333333335\n"
     ]
    }
   ],
   "source": [
    "# Esto convertirá 200 minutos en horas buceando en 60\n",
    "minutos = 200\n",
    "horas = minutos / 60\n",
    "print(horas)"
   ]
  },
  {
   "cell_type": "markdown",
   "id": "9dfa0f64-6f0f-4f0d-b428-9721a97a3a69",
   "metadata": {},
   "source": [
    "## Author  \n",
    "\n",
    "Paola Michelle Figueroa Benítez  \n"
   ]
  },
  {
   "cell_type": "markdown",
   "id": "92044afe-7348-40bd-907f-9d7d0ef75db8",
   "metadata": {},
   "source": [
    "## Author  \n",
    "\n",
    "Paola Michelle Figueroa Benítez  \n"
   ]
  },
  {
   "cell_type": "code",
   "execution_count": null,
   "id": "021cd6b0-d38d-4289-b114-cd794f733c6b",
   "metadata": {},
   "outputs": [],
   "source": []
  }
 ],
 "metadata": {
  "kernelspec": {
   "display_name": "Python 3 (ipykernel)",
   "language": "python",
   "name": "python3"
  },
  "language_info": {
   "codemirror_mode": {
    "name": "ipython",
    "version": 3
   },
   "file_extension": ".py",
   "mimetype": "text/x-python",
   "name": "python",
   "nbconvert_exporter": "python",
   "pygments_lexer": "ipython3",
   "version": "3.12.8"
  }
 },
 "nbformat": 4,
 "nbformat_minor": 5
}
